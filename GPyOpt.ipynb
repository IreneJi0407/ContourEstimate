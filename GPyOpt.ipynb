{
 "cells": [
  {
   "cell_type": "markdown",
   "metadata": {},
   "source": [
    "### Define your own acquisition function"
   ]
  },
  {
   "cell_type": "markdown",
   "metadata": {},
   "source": [
    "https://nbviewer.jupyter.org/github/SheffieldML/GPyOpt/blob/devel/manual/GPyOpt_creating_new_aquisitions.ipynb"
   ]
  },
  {
   "cell_type": "markdown",
   "metadata": {},
   "source": [
    "GPyOpt BO Tutorial: https://www.blopig.com/blog/wp-content/uploads/2019/10/GPyOpt-Tutorial1.html\n",
    "\n",
    "GpyOpt Github page: https://github.com/SheffieldML/GPyOpt\n",
    "\n",
    "Example 1: https://github.com/SheffieldML/GPyOpt/blob/master/manual/GPyOpt_bandits_optimization.ipynb\n",
    "\n",
    "Example 2: https://nbviewer.jupyter.org/github/SheffieldML/GPyOpt/blob/master/manual/GPyOpt_reference_manual.ipynb"
   ]
  },
  {
   "cell_type": "code",
   "execution_count": 1,
   "metadata": {},
   "outputs": [],
   "source": [
    "from GPyOpt.acquisitions.base import AcquisitionBase\n",
    "from GPyOpt.core.task.cost import constant_cost_withGradients\n",
    "from scipy.stats import norm\n",
    "from scipy import integrate\n",
    "import numpy as np\n",
    "    \n",
    "class AcquisitionNew_EI(AcquisitionBase):\n",
    "    \n",
    "    \"\"\"\n",
    "    General template to create a new GPyOPt acquisition function\n",
    "\n",
    "    :param model: GPyOpt class of model\n",
    "    :param space: GPyOpt class of domain\n",
    "    :param optimizer: optimizer of the acquisition. Should be a GPyOpt optimizer\n",
    "    :param cost_withGradients: function that provides the evaluation cost and its gradients\n",
    "\n",
    "    \"\"\"\n",
    "\n",
    "    # --- Set this line to true if analytical gradients are available\n",
    "    analytical_gradient_prediction = False\n",
    "\n",
    "    \n",
    "    def __init__(self, model, space, optimizer, cost_withGradients=None, **kwargs):\n",
    "        self.optimizer = optimizer\n",
    "        super(AcquisitionNew_EI, self).__init__(model, space, optimizer)\n",
    "        \n",
    "        # --- UNCOMMENT ONE OF THE TWO NEXT BITS\n",
    "             \n",
    "        # 1) THIS ONE IF THE EVALUATION COSTS MAKES SENSE\n",
    "        #\n",
    "        # if cost_withGradients == None:\n",
    "        #     self.cost_withGradients = constant_cost_withGradients\n",
    "        # else:\n",
    "        #     self.cost_withGradients = cost_withGradients\n",
    "\n",
    "        # 2) THIS ONE IF THE EVALUATION COSTS DOES NOT MAKE SENSE\n",
    "        #\n",
    "        if cost_withGradients == None:\n",
    "            self.cost_withGradients = constant_cost_withGradients\n",
    "        else:\n",
    "            print('The new acquisition does now make sense with cost. Cost set to constant.')\n",
    "            self.cost_withGradients = constant_cost_withGradients\n",
    "\n",
    "\n",
    "    def _compute_acq(self,x):\n",
    "        \n",
    "        # --- DEFINE YOUR AQUISITION HERE (TO BE MAXIMIZED)\n",
    "        #\n",
    "        # Compute here the value of the new acquisition function. Remember that x is a 2D  numpy array\n",
    "        # with a point in the domanin in each row. f_acqu_x should be a column vector containing the\n",
    "        # values of the acquisition at x.\n",
    "        #\n",
    "        m_vec, s2_vec = self.model.predict(x)\n",
    "        \n",
    "        # target a, alpha should be inputs (to move to __init__)\n",
    "        a = 0\n",
    "        alpha = 0.1\n",
    "        \n",
    "        f_acqu_x = []\n",
    "        for index in range(len(m_vec)):\n",
    "            m = m_vec[index]; s2 = s2_vec[index]; s = np.sqrt(s2)\n",
    "            f = lambda y: (y-m)**2 * norm.pdf((y-m)/s) # integrand for the third term\n",
    "            f_acqu_x_temp = ((alpha**2 * s2) - (m-a)**2) * (norm.cdf((a-m)/s+alpha) - norm.cdf((a-m)/s-alpha)) \\\n",
    "                    + 2*(m-a)*s2 * (norm.pdf((a-m)/s+alpha) - norm.pdf((a-m)/s-alpha)) \\\n",
    "                    + integrate.quad(f, a-alpha*s, a+alpha*s)[0]\n",
    "            f_acqu_x.append(f_acqu_x_temp)\n",
    "        \n",
    "        f_acqu_x = np.array(f_acqu_x); f_acqu_x = f_acqu_x.reshape(-1,1)\n",
    "\n",
    "        return f_acqu_x\n",
    "    \n",
    "    def _compute_acq_withGradients(self, x):\n",
    "        \n",
    "        # --- DEFINE YOUR AQUISITION (TO BE MAXIMIZED) AND ITS GRADIENT HERE HERE\n",
    "        #\n",
    "        # Compute here the value of the new acquisition function. Remember that x is a 2D  numpy array\n",
    "        # with a point in the domanin in each row. f_acqu_x should be a column vector containing the\n",
    "        # values of the acquisition at x. df_acqu_x contains is each row the values of the gradient of the\n",
    "        # acquisition at each point of x.\n",
    "        #\n",
    "        # NOTE: this function is optional. If note available the gradients will be approxiamted numerically.\n",
    "        \n",
    "        return f_acqu_x, df_acqu_x\n"
   ]
  }
 ],
 "metadata": {
  "kernelspec": {
   "display_name": "Python 3",
   "language": "python",
   "name": "python3"
  },
  "language_info": {
   "codemirror_mode": {
    "name": "ipython",
    "version": 3
   },
   "file_extension": ".py",
   "mimetype": "text/x-python",
   "name": "python",
   "nbconvert_exporter": "python",
   "pygments_lexer": "ipython3",
   "version": "3.7.6"
  }
 },
 "nbformat": 4,
 "nbformat_minor": 4
}
