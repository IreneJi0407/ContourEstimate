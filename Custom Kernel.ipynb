{
 "cells": [
  {
   "cell_type": "markdown",
   "metadata": {},
   "source": [
    "#### Example:\n",
    "GPflow for creating Brownian Motion Kernel:\n",
    "- https://gpflow.readthedocs.io/en/master/notebooks/tailor/kernel_design.html"
   ]
  },
  {
   "cell_type": "code",
   "execution_count": 1,
   "metadata": {},
   "outputs": [],
   "source": [
    "import gpflow\n",
    "import numpy as np\n",
    "import matplotlib.pyplot as plt\n",
    "import tensorflow as tf\n",
    "from gpflow.utilities import print_summary, positive\n",
    "from tensorflow_probability import bijectors as tfb\n",
    "import pandas as pd\n",
    "from gpflow.mean_functions import Constant\n",
    "plt.style.use(\"ggplot\")\n",
    "%matplotlib inline"
   ]
  },
  {
   "cell_type": "markdown",
   "metadata": {},
   "source": [
    "$k([t_1,t_2],[t_1',t_2']) = [w_1min(t_1,t_1')^{l_1}+w_2min(t_2,t_2')^{l_2}]^l$"
   ]
  },
  {
   "cell_type": "code",
   "execution_count": 2,
   "metadata": {},
   "outputs": [],
   "source": [
    "# combined kernel\n",
    "class Brownian_1d(gpflow.kernels.Kernel):\n",
    "    def __init__(self,dim):\n",
    "        self.dim = dim\n",
    "        super().__init__() # 0: model paramerter x; 1: mesh t1; 2: mesh t2\n",
    "#         sigmoid = tfb.Sigmoid(tf.cast(0,tf.float64), tf.cast(0.5,tf.float64))\n",
    "#         self.variance = gpflow.Parameter(3, transform=positive(), dtype='float64')\n",
    "#         self.w1 = gpflow.Parameter(0.3, transform=sigmoid, dtype='float64')\n",
    "        self.l1 = 2 #gpflow.Parameter(1, transform=positive(), dtype='float64')\n",
    "#         self.w2 = gpflow.Parameter(0.4, transform=sigmoid, dtype='float64')\n",
    "#         self.l2 = gpflow.Parameter(0.6, transform=positive(), dtype='float64')\n",
    "#         self.l = gpflow.Parameter(2.0, transform=positive(), dtype='float64')\n",
    "\n",
    "    def K(self, X, X2=None):\n",
    "        if X2 is None:\n",
    "            X2 = X\n",
    "        n1 = X.shape[0]\n",
    "        n2 = X2.shape[0]\n",
    "\n",
    "        temp1 = tf.reshape(tf.repeat(X[:,self.dim], repeats=n2), shape=[n1,n2])\n",
    "        temp1 = tf.cast(temp1, dtype='float64')\n",
    "        temp2 = tf.reshape(tf.repeat(X2[:,self.dim], repeats=n1), shape=[n2,n1])\n",
    "        temp2 = tf.cast(temp2, dtype='float64')\n",
    "        power = tf.ones_like(temp1, dtype='float64') * self.l1\n",
    "        term1 = tf.pow(tf.minimum(temp1, tf.transpose(temp2)),\\\n",
    "                                power)\n",
    "        \n",
    "#         temp1 = tf.reshape(tf.repeat(X[:,self.dim[1]], repeats=n2), shape=[n1,n2])\n",
    "#         temp1 = tf.cast(temp1, dtype='float64')\n",
    "#         temp2 = tf.reshape(tf.repeat(X2[:,self.dim[1]], repeats=n1), shape=[n2,n1])\n",
    "#         temp2 = tf.cast(temp2, dtype='float64')\n",
    "#         power = tf.ones_like(temp1, dtype='float64') * self.l2\n",
    "#         term2 = self.w2 * tf.pow(tf.minimum(temp1, tf.transpose(temp2)),\\\n",
    "#                                 power)\n",
    "        \n",
    "#         power = tf.ones_like(term1, dtype='float64') * self.l\n",
    "        return term1 #tf.pow((term1 + term2),power) # this returns a 2D tensor\n",
    "#         return self.variance * tf.pow((term1 + term2),power)  # this returns a 2D tensor\n",
    "\n",
    "\n",
    "    def K_diag(self, X):\n",
    "        \n",
    "        n = X.shape[0]\n",
    "        \n",
    "        diag = (X[:,self.dim] ** self.l1)\n",
    "        \n",
    "        return tf.reshape(diag, (-1,))\n",
    "        \n",
    "#         X2 = X\n",
    "#         n = X.shape[0]\n",
    "\n",
    "#         temp1 = tf.reshape(tf.repeat(X[:,self.dim[0]], repeats=n), shape=[n,n])\n",
    "#         temp1 = tf.cast(temp1, dtype='float64')\n",
    "#         temp2 = tf.reshape(tf.repeat(X2[:,self.dim[0]], repeats=n), shape=[n,n])\n",
    "#         temp2 = tf.cast(temp2, dtype='float64')\n",
    "#         power = tf.ones_like(temp1, dtype='float64') * self.l1\n",
    "#         term1 = self.w1 * tf.pow(tf.minimum(temp1, tf.transpose(temp2)),\\\n",
    "#                                 power)\n",
    "        \n",
    "#         temp1 = tf.reshape(tf.repeat(X[:,self.dim[1]], repeats=n), shape=[n,n])\n",
    "#         temp1 = tf.cast(temp1, dtype='float64')\n",
    "#         temp2 = tf.reshape(tf.repeat(X2[:,self.dim[1]], repeats=n), shape=[n,n])\n",
    "#         temp2 = tf.cast(temp2, dtype='float64')\n",
    "#         power = tf.ones_like(temp1, dtype='float64') * self.l2\n",
    "#         term2 = self.w2 * tf.pow(tf.minimum(temp1, tf.transpose(temp2)),\\\n",
    "#                                 power)\n",
    "        \n",
    "#         power = tf.ones_like(term1, dtype='float64') * self.l\n",
    "# #         matrix = self.variance * tf.pow((term1 + term2),power)\n",
    "#         matrix = tf.pow((term1 + term2),power)\n",
    "        \n",
    "#         return tf.linalg.diag_part(matrix.numpy()) # this returns a 1D tensor"
   ]
  },
  {
   "cell_type": "code",
   "execution_count": 3,
   "metadata": {},
   "outputs": [],
   "source": [
    "# combined kernel\n",
    "class Brownian_2d(gpflow.kernels.Kernel):\n",
    "    def __init__(self,dim):\n",
    "        self.dim = dim\n",
    "        super().__init__(active_dims=self.dim.tolist()) # 0: model paramerter x; 1: mesh t1; 2: mesh t2\n",
    "        sigmoid = tfb.Sigmoid(tf.cast(0,tf.float64), tf.cast(0.5,tf.float64))\n",
    "#         self.variance = gpflow.Parameter(3, transform=positive(), dtype='float64')\n",
    "        self.w1 = gpflow.Parameter(0.3, transform=sigmoid, dtype='float64')\n",
    "        self.l1 = gpflow.Parameter(0.5, transform=positive(), dtype='float64')\n",
    "        self.w2 = gpflow.Parameter(0.4, transform=sigmoid, dtype='float64')\n",
    "        self.l2 = gpflow.Parameter(0.6, transform=positive(), dtype='float64')\n",
    "        self.l = gpflow.Parameter(2.0, transform=positive(), dtype='float64')\n",
    "\n",
    "    def K(self, X, X2=None):\n",
    "        if X2 is None:\n",
    "            X2 = X\n",
    "        n1 = X.shape[0]\n",
    "        n2 = X2.shape[0]\n",
    "\n",
    "        temp1 = tf.reshape(tf.repeat(X[:,self.dim[0]], repeats=n2), shape=[n1,n2])\n",
    "        temp1 = tf.cast(temp1, dtype='float64')\n",
    "        temp2 = tf.reshape(tf.repeat(X2[:,self.dim[0]], repeats=n1), shape=[n2,n1])\n",
    "        temp2 = tf.cast(temp2, dtype='float64')\n",
    "        power = tf.ones_like(temp1, dtype='float64') * self.l1\n",
    "        term1 = self.w1 * tf.pow(tf.minimum(temp1, tf.transpose(temp2)),\\\n",
    "                                power)\n",
    "        \n",
    "        temp1 = tf.reshape(tf.repeat(X[:,self.dim[1]], repeats=n2), shape=[n1,n2])\n",
    "        temp1 = tf.cast(temp1, dtype='float64')\n",
    "        temp2 = tf.reshape(tf.repeat(X2[:,self.dim[1]], repeats=n1), shape=[n2,n1])\n",
    "        temp2 = tf.cast(temp2, dtype='float64')\n",
    "        power = tf.ones_like(temp1, dtype='float64') * self.l2\n",
    "        term2 = self.w2 * tf.pow(tf.minimum(temp1, tf.transpose(temp2)),\\\n",
    "                                power)\n",
    "        \n",
    "        power = tf.ones_like(term1, dtype='float64') * self.l\n",
    "        return tf.pow((term1 + term2),power) # this returns a 2D tensor\n",
    "#         return self.variance * tf.pow((term1 + term2),power)  # this returns a 2D tensor\n",
    "\n",
    "\n",
    "    def K_diag(self, X):\n",
    "        \n",
    "        n = X.shape[0]\n",
    "        \n",
    "        diag = (self.w1 * X[:,self.dim[0]] ** self.l1 + self.w2 * X[:,self.dim[1]] ** self.l2) ** self.l\n",
    "        \n",
    "        return tf.reshape(diag, (-1,))\n",
    "        \n",
    "#         X2 = X\n",
    "#         n = X.shape[0]\n",
    "\n",
    "#         temp1 = tf.reshape(tf.repeat(X[:,self.dim[0]], repeats=n), shape=[n,n])\n",
    "#         temp1 = tf.cast(temp1, dtype='float64')\n",
    "#         temp2 = tf.reshape(tf.repeat(X2[:,self.dim[0]], repeats=n), shape=[n,n])\n",
    "#         temp2 = tf.cast(temp2, dtype='float64')\n",
    "#         power = tf.ones_like(temp1, dtype='float64') * self.l1\n",
    "#         term1 = self.w1 * tf.pow(tf.minimum(temp1, tf.transpose(temp2)),\\\n",
    "#                                 power)\n",
    "        \n",
    "#         temp1 = tf.reshape(tf.repeat(X[:,self.dim[1]], repeats=n), shape=[n,n])\n",
    "#         temp1 = tf.cast(temp1, dtype='float64')\n",
    "#         temp2 = tf.reshape(tf.repeat(X2[:,self.dim[1]], repeats=n), shape=[n,n])\n",
    "#         temp2 = tf.cast(temp2, dtype='float64')\n",
    "#         power = tf.ones_like(temp1, dtype='float64') * self.l2\n",
    "#         term2 = self.w2 * tf.pow(tf.minimum(temp1, tf.transpose(temp2)),\\\n",
    "#                                 power)\n",
    "        \n",
    "#         power = tf.ones_like(term1, dtype='float64') * self.l\n",
    "# #         matrix = self.variance * tf.pow((term1 + term2),power)\n",
    "#         matrix = tf.pow((term1 + term2),power)\n",
    "        \n",
    "#         return tf.linalg.diag_part(matrix.numpy()) # this returns a 1D tensor"
   ]
  },
  {
   "cell_type": "code",
   "execution_count": 4,
   "metadata": {},
   "outputs": [],
   "source": [
    "# combined kernel\n",
    "class Brownian_3d(gpflow.kernels.Kernel):\n",
    "    def __init__(self,dim):\n",
    "        self.dim = dim\n",
    "        super().__init__(active_dims=self.dim.tolist()) # 0: model paramerter x; 1: mesh t1; 2: mesh t2\n",
    "        sigmoid = tfb.Sigmoid(tf.cast(0,tf.float64), tf.cast(0.33333,tf.float64))\n",
    "#         self.variance = gpflow.Parameter(3, transform=positive(), dtype='float64')\n",
    "        self.w1 = gpflow.Parameter(0.3, transform=sigmoid, dtype='float64')\n",
    "        self.l1 = 2 #gpflow.Parameter(0.5, transform=positive(), dtype='float64')\n",
    "        self.w2 = gpflow.Parameter(0.3, transform=sigmoid, dtype='float64')\n",
    "        self.l2 = 2 #gpflow.Parameter(0.6, transform=positive(), dtype='float64')\n",
    "        self.w3 = gpflow.Parameter(0.3, transform=sigmoid, dtype='float64')\n",
    "        self.l3 = 2 #gpflow.Parameter(0.5, transform=positive(), dtype='float64')\n",
    "        self.l = 1 #gpflow.Parameter(2.0, transform=positive(), dtype='float64')\n",
    "\n",
    "    def K(self, X, X2=None):\n",
    "        if X2 is None:\n",
    "            X2 = X\n",
    "        n1 = X.shape[0]\n",
    "        n2 = X2.shape[0]\n",
    "\n",
    "        temp1 = tf.reshape(tf.repeat(X[:,self.dim[0]], repeats=n2), shape=[n1,n2])\n",
    "        temp1 = tf.cast(temp1, dtype='float64')\n",
    "        temp2 = tf.reshape(tf.repeat(X2[:,self.dim[0]], repeats=n1), shape=[n2,n1])\n",
    "        temp2 = tf.cast(temp2, dtype='float64')\n",
    "        power = tf.ones_like(temp1, dtype='float64') * self.l1\n",
    "        term1 = self.w1 * tf.pow(tf.minimum(temp1, tf.transpose(temp2)),\\\n",
    "                                power)\n",
    "        \n",
    "        temp1 = tf.reshape(tf.repeat(X[:,self.dim[1]], repeats=n2), shape=[n1,n2])\n",
    "        temp1 = tf.cast(temp1, dtype='float64')\n",
    "        temp2 = tf.reshape(tf.repeat(X2[:,self.dim[1]], repeats=n1), shape=[n2,n1])\n",
    "        temp2 = tf.cast(temp2, dtype='float64')\n",
    "        power = tf.ones_like(temp1, dtype='float64') * self.l2\n",
    "        term2 = self.w2 * tf.pow(tf.minimum(temp1, tf.transpose(temp2)),\\\n",
    "                                power)\n",
    "        \n",
    "        temp1 = tf.reshape(tf.repeat(X[:,self.dim[2]], repeats=n2), shape=[n1,n2])\n",
    "        temp1 = tf.cast(temp1, dtype='float64')\n",
    "        temp2 = tf.reshape(tf.repeat(X2[:,self.dim[2]], repeats=n1), shape=[n2,n1])\n",
    "        temp2 = tf.cast(temp2, dtype='float64')\n",
    "        power = tf.ones_like(temp1, dtype='float64') * self.l3\n",
    "        term3 = self.w3 * tf.pow(tf.minimum(temp1, tf.transpose(temp2)),\\\n",
    "                                power)\n",
    "        \n",
    "        power = tf.ones_like(term1, dtype='float64') * self.l\n",
    "        return tf.pow((term1 + term2 + term3),power) # this returns a 2D tensor\n",
    "#         return self.variance * tf.pow((term1 + term2),power)  # this returns a 2D tensor\n",
    "\n",
    "\n",
    "    def K_diag(self, X):\n",
    "        \n",
    "        n = X.shape[0]\n",
    "#         X = X.to_numpy()\n",
    "        \n",
    "        diag = (self.w1 * X[:,self.dim[0]] ** self.l1 + self.w2 * X[:,self.dim[1]] ** self.l2 + self.w3 * X[:,self.dim[2]] ** self.l3) ** self.l\n",
    "        \n",
    "        return tf.reshape(diag, (-1,))\n",
    "        \n",
    "#         X2 = X\n",
    "#         n = X.shape[0]\n",
    "\n",
    "#         temp1 = tf.reshape(tf.repeat(X[:,self.dim[0]], repeats=n), shape=[n,n])\n",
    "#         temp1 = tf.cast(temp1, dtype='float64')\n",
    "#         temp2 = tf.reshape(tf.repeat(X2[:,self.dim[0]], repeats=n), shape=[n,n])\n",
    "#         temp2 = tf.cast(temp2, dtype='float64')\n",
    "#         power = tf.ones_like(temp1, dtype='float64') * self.l1\n",
    "#         term1 = self.w1 * tf.pow(tf.minimum(temp1, tf.transpose(temp2)),\\\n",
    "#                                 power)\n",
    "        \n",
    "#         temp1 = tf.reshape(tf.repeat(X[:,self.dim[1]], repeats=n), shape=[n,n])\n",
    "#         temp1 = tf.cast(temp1, dtype='float64')\n",
    "#         temp2 = tf.reshape(tf.repeat(X2[:,self.dim[1]], repeats=n), shape=[n,n])\n",
    "#         temp2 = tf.cast(temp2, dtype='float64')\n",
    "#         power = tf.ones_like(temp1, dtype='float64') * self.l2\n",
    "#         term2 = self.w2 * tf.pow(tf.minimum(temp1, tf.transpose(temp2)),\\\n",
    "#                                 power)\n",
    "        \n",
    "#         power = tf.ones_like(term1, dtype='float64') * self.l\n",
    "# #         matrix = self.variance * tf.pow((term1 + term2),power)\n",
    "#         matrix = tf.pow((term1 + term2),power)\n",
    "        \n",
    "#         return tf.linalg.diag_part(matrix.numpy()) # this returns a 1D tensor"
   ]
  },
  {
   "cell_type": "markdown",
   "metadata": {},
   "source": [
    "Read in data:"
   ]
  },
  {
   "cell_type": "code",
   "execution_count": 5,
   "metadata": {},
   "outputs": [],
   "source": [
    "from numpy import random\n",
    "filename = 'TestDatafromHenry/Ex2_results_M3.txt'\n",
    "df3 = np.loadtxt(filename, delimiter=' ')\n",
    "df3 = pd.DataFrame(df3)\n",
    "df3[\"t1\"] = (1/df3[3])**(1/3)\n",
    "df3[\"t2\"] = df3[\"t1\"] #np.random.uniform(0,1,len(df3)) \n",
    "df3[\"t3\"] = df3[\"t1\"] #np.random.uniform(0,1,len(df3)) \n",
    "df3 = df3.drop([3], axis=1)\n",
    "df3 = df3.rename(columns = {0:\"x1\", 1:\"x2\", 2:\"x3\", 4:\"y\"})"
   ]
  },
  {
   "cell_type": "code",
   "execution_count": 6,
   "metadata": {},
   "outputs": [],
   "source": [
    "filename = 'TestDatafromHenry/Ex2_results_test.txt'\n",
    "dft = np.loadtxt(filename, delimiter=' ')\n",
    "dft = pd.DataFrame(dft)\n",
    "dft = dft.rename(columns = {0:\"x1\", 1:\"x2\", 2:\"x3\", 3:\"y\"})\n",
    "dft[\"t1\"] = 0.025\n",
    "dft[\"t2\"] = 0.025\n",
    "dft[\"t3\"] = 0.005"
   ]
  },
  {
   "cell_type": "code",
   "execution_count": 7,
   "metadata": {},
   "outputs": [
    {
     "data": {
      "text/html": [
       "<div>\n",
       "<style scoped>\n",
       "    .dataframe tbody tr th:only-of-type {\n",
       "        vertical-align: middle;\n",
       "    }\n",
       "\n",
       "    .dataframe tbody tr th {\n",
       "        vertical-align: top;\n",
       "    }\n",
       "\n",
       "    .dataframe thead th {\n",
       "        text-align: right;\n",
       "    }\n",
       "</style>\n",
       "<table border=\"1\" class=\"dataframe\">\n",
       "  <thead>\n",
       "    <tr style=\"text-align: right;\">\n",
       "      <th></th>\n",
       "      <th>x1</th>\n",
       "      <th>x2</th>\n",
       "      <th>x3</th>\n",
       "      <th>y</th>\n",
       "      <th>t1</th>\n",
       "      <th>t2</th>\n",
       "      <th>t3</th>\n",
       "    </tr>\n",
       "  </thead>\n",
       "  <tbody>\n",
       "    <tr>\n",
       "      <th>0</th>\n",
       "      <td>0.745</td>\n",
       "      <td>0.516667</td>\n",
       "      <td>0.350000</td>\n",
       "      <td>35.540559</td>\n",
       "      <td>0.025</td>\n",
       "      <td>0.025</td>\n",
       "      <td>0.005</td>\n",
       "    </tr>\n",
       "    <tr>\n",
       "      <th>1</th>\n",
       "      <td>0.205</td>\n",
       "      <td>0.916667</td>\n",
       "      <td>0.650000</td>\n",
       "      <td>52.045767</td>\n",
       "      <td>0.025</td>\n",
       "      <td>0.025</td>\n",
       "      <td>0.005</td>\n",
       "    </tr>\n",
       "    <tr>\n",
       "      <th>2</th>\n",
       "      <td>0.925</td>\n",
       "      <td>0.816667</td>\n",
       "      <td>0.950000</td>\n",
       "      <td>180.376000</td>\n",
       "      <td>0.025</td>\n",
       "      <td>0.025</td>\n",
       "      <td>0.005</td>\n",
       "    </tr>\n",
       "    <tr>\n",
       "      <th>3</th>\n",
       "      <td>0.415</td>\n",
       "      <td>0.216667</td>\n",
       "      <td>0.850000</td>\n",
       "      <td>0.679783</td>\n",
       "      <td>0.025</td>\n",
       "      <td>0.025</td>\n",
       "      <td>0.005</td>\n",
       "    </tr>\n",
       "    <tr>\n",
       "      <th>4</th>\n",
       "      <td>0.265</td>\n",
       "      <td>0.083333</td>\n",
       "      <td>0.583333</td>\n",
       "      <td>0.047406</td>\n",
       "      <td>0.025</td>\n",
       "      <td>0.025</td>\n",
       "      <td>0.005</td>\n",
       "    </tr>\n",
       "    <tr>\n",
       "      <th>5</th>\n",
       "      <td>0.475</td>\n",
       "      <td>0.350000</td>\n",
       "      <td>0.150000</td>\n",
       "      <td>5.478580</td>\n",
       "      <td>0.025</td>\n",
       "      <td>0.025</td>\n",
       "      <td>0.005</td>\n",
       "    </tr>\n",
       "    <tr>\n",
       "      <th>6</th>\n",
       "      <td>0.295</td>\n",
       "      <td>0.716667</td>\n",
       "      <td>0.116667</td>\n",
       "      <td>56.541967</td>\n",
       "      <td>0.025</td>\n",
       "      <td>0.025</td>\n",
       "      <td>0.005</td>\n",
       "    </tr>\n",
       "    <tr>\n",
       "      <th>7</th>\n",
       "      <td>0.955</td>\n",
       "      <td>0.416667</td>\n",
       "      <td>0.183333</td>\n",
       "      <td>21.186533</td>\n",
       "      <td>0.025</td>\n",
       "      <td>0.025</td>\n",
       "      <td>0.005</td>\n",
       "    </tr>\n",
       "    <tr>\n",
       "      <th>8</th>\n",
       "      <td>0.355</td>\n",
       "      <td>0.150000</td>\n",
       "      <td>0.683333</td>\n",
       "      <td>0.116495</td>\n",
       "      <td>0.025</td>\n",
       "      <td>0.025</td>\n",
       "      <td>0.005</td>\n",
       "    </tr>\n",
       "    <tr>\n",
       "      <th>9</th>\n",
       "      <td>0.625</td>\n",
       "      <td>0.316667</td>\n",
       "      <td>0.483333</td>\n",
       "      <td>4.152163</td>\n",
       "      <td>0.025</td>\n",
       "      <td>0.025</td>\n",
       "      <td>0.005</td>\n",
       "    </tr>\n",
       "    <tr>\n",
       "      <th>10</th>\n",
       "      <td>0.835</td>\n",
       "      <td>0.250000</td>\n",
       "      <td>0.983333</td>\n",
       "      <td>2.766060</td>\n",
       "      <td>0.025</td>\n",
       "      <td>0.025</td>\n",
       "      <td>0.005</td>\n",
       "    </tr>\n",
       "    <tr>\n",
       "      <th>11</th>\n",
       "      <td>0.535</td>\n",
       "      <td>0.783333</td>\n",
       "      <td>0.283333</td>\n",
       "      <td>93.029400</td>\n",
       "      <td>0.025</td>\n",
       "      <td>0.025</td>\n",
       "      <td>0.005</td>\n",
       "    </tr>\n",
       "    <tr>\n",
       "      <th>12</th>\n",
       "      <td>0.505</td>\n",
       "      <td>0.750000</td>\n",
       "      <td>0.016667</td>\n",
       "      <td>79.308000</td>\n",
       "      <td>0.025</td>\n",
       "      <td>0.025</td>\n",
       "      <td>0.005</td>\n",
       "    </tr>\n",
       "    <tr>\n",
       "      <th>13</th>\n",
       "      <td>0.895</td>\n",
       "      <td>0.883333</td>\n",
       "      <td>0.616667</td>\n",
       "      <td>208.921000</td>\n",
       "      <td>0.025</td>\n",
       "      <td>0.025</td>\n",
       "      <td>0.005</td>\n",
       "    </tr>\n",
       "    <tr>\n",
       "      <th>14</th>\n",
       "      <td>0.595</td>\n",
       "      <td>0.550000</td>\n",
       "      <td>0.783333</td>\n",
       "      <td>35.804400</td>\n",
       "      <td>0.025</td>\n",
       "      <td>0.025</td>\n",
       "      <td>0.005</td>\n",
       "    </tr>\n",
       "    <tr>\n",
       "      <th>15</th>\n",
       "      <td>0.175</td>\n",
       "      <td>0.683333</td>\n",
       "      <td>0.416667</td>\n",
       "      <td>20.731967</td>\n",
       "      <td>0.025</td>\n",
       "      <td>0.025</td>\n",
       "      <td>0.005</td>\n",
       "    </tr>\n",
       "    <tr>\n",
       "      <th>16</th>\n",
       "      <td>0.145</td>\n",
       "      <td>0.050000</td>\n",
       "      <td>0.916667</td>\n",
       "      <td>0.013636</td>\n",
       "      <td>0.025</td>\n",
       "      <td>0.025</td>\n",
       "      <td>0.005</td>\n",
       "    </tr>\n",
       "    <tr>\n",
       "      <th>17</th>\n",
       "      <td>0.115</td>\n",
       "      <td>0.616667</td>\n",
       "      <td>0.250000</td>\n",
       "      <td>10.004273</td>\n",
       "      <td>0.025</td>\n",
       "      <td>0.025</td>\n",
       "      <td>0.005</td>\n",
       "    </tr>\n",
       "    <tr>\n",
       "      <th>18</th>\n",
       "      <td>0.325</td>\n",
       "      <td>0.483333</td>\n",
       "      <td>0.550000</td>\n",
       "      <td>12.116467</td>\n",
       "      <td>0.025</td>\n",
       "      <td>0.025</td>\n",
       "      <td>0.005</td>\n",
       "    </tr>\n",
       "    <tr>\n",
       "      <th>19</th>\n",
       "      <td>0.775</td>\n",
       "      <td>0.583333</td>\n",
       "      <td>0.816667</td>\n",
       "      <td>56.675600</td>\n",
       "      <td>0.025</td>\n",
       "      <td>0.025</td>\n",
       "      <td>0.005</td>\n",
       "    </tr>\n",
       "    <tr>\n",
       "      <th>20</th>\n",
       "      <td>0.865</td>\n",
       "      <td>0.950000</td>\n",
       "      <td>0.383333</td>\n",
       "      <td>237.189000</td>\n",
       "      <td>0.025</td>\n",
       "      <td>0.025</td>\n",
       "      <td>0.005</td>\n",
       "    </tr>\n",
       "    <tr>\n",
       "      <th>21</th>\n",
       "      <td>0.685</td>\n",
       "      <td>0.983333</td>\n",
       "      <td>0.083333</td>\n",
       "      <td>202.466333</td>\n",
       "      <td>0.025</td>\n",
       "      <td>0.025</td>\n",
       "      <td>0.005</td>\n",
       "    </tr>\n",
       "    <tr>\n",
       "      <th>22</th>\n",
       "      <td>0.985</td>\n",
       "      <td>0.116667</td>\n",
       "      <td>0.883333</td>\n",
       "      <td>0.341612</td>\n",
       "      <td>0.025</td>\n",
       "      <td>0.025</td>\n",
       "      <td>0.005</td>\n",
       "    </tr>\n",
       "    <tr>\n",
       "      <th>23</th>\n",
       "      <td>0.655</td>\n",
       "      <td>0.183333</td>\n",
       "      <td>0.450000</td>\n",
       "      <td>0.154495</td>\n",
       "      <td>0.025</td>\n",
       "      <td>0.025</td>\n",
       "      <td>0.005</td>\n",
       "    </tr>\n",
       "    <tr>\n",
       "      <th>24</th>\n",
       "      <td>0.445</td>\n",
       "      <td>0.383333</td>\n",
       "      <td>0.316667</td>\n",
       "      <td>6.931327</td>\n",
       "      <td>0.025</td>\n",
       "      <td>0.025</td>\n",
       "      <td>0.005</td>\n",
       "    </tr>\n",
       "    <tr>\n",
       "      <th>25</th>\n",
       "      <td>0.805</td>\n",
       "      <td>0.650000</td>\n",
       "      <td>0.750000</td>\n",
       "      <td>82.526700</td>\n",
       "      <td>0.025</td>\n",
       "      <td>0.025</td>\n",
       "      <td>0.005</td>\n",
       "    </tr>\n",
       "    <tr>\n",
       "      <th>26</th>\n",
       "      <td>0.565</td>\n",
       "      <td>0.016667</td>\n",
       "      <td>0.216667</td>\n",
       "      <td>0.008672</td>\n",
       "      <td>0.025</td>\n",
       "      <td>0.025</td>\n",
       "      <td>0.005</td>\n",
       "    </tr>\n",
       "    <tr>\n",
       "      <th>27</th>\n",
       "      <td>0.235</td>\n",
       "      <td>0.850000</td>\n",
       "      <td>0.516667</td>\n",
       "      <td>50.081700</td>\n",
       "      <td>0.025</td>\n",
       "      <td>0.025</td>\n",
       "      <td>0.005</td>\n",
       "    </tr>\n",
       "    <tr>\n",
       "      <th>28</th>\n",
       "      <td>0.715</td>\n",
       "      <td>0.283333</td>\n",
       "      <td>0.716667</td>\n",
       "      <td>3.060127</td>\n",
       "      <td>0.025</td>\n",
       "      <td>0.025</td>\n",
       "      <td>0.005</td>\n",
       "    </tr>\n",
       "    <tr>\n",
       "      <th>29</th>\n",
       "      <td>0.385</td>\n",
       "      <td>0.450000</td>\n",
       "      <td>0.050000</td>\n",
       "      <td>11.553800</td>\n",
       "      <td>0.025</td>\n",
       "      <td>0.025</td>\n",
       "      <td>0.005</td>\n",
       "    </tr>\n",
       "  </tbody>\n",
       "</table>\n",
       "</div>"
      ],
      "text/plain": [
       "       x1        x2        x3           y     t1     t2     t3\n",
       "0   0.745  0.516667  0.350000   35.540559  0.025  0.025  0.005\n",
       "1   0.205  0.916667  0.650000   52.045767  0.025  0.025  0.005\n",
       "2   0.925  0.816667  0.950000  180.376000  0.025  0.025  0.005\n",
       "3   0.415  0.216667  0.850000    0.679783  0.025  0.025  0.005\n",
       "4   0.265  0.083333  0.583333    0.047406  0.025  0.025  0.005\n",
       "5   0.475  0.350000  0.150000    5.478580  0.025  0.025  0.005\n",
       "6   0.295  0.716667  0.116667   56.541967  0.025  0.025  0.005\n",
       "7   0.955  0.416667  0.183333   21.186533  0.025  0.025  0.005\n",
       "8   0.355  0.150000  0.683333    0.116495  0.025  0.025  0.005\n",
       "9   0.625  0.316667  0.483333    4.152163  0.025  0.025  0.005\n",
       "10  0.835  0.250000  0.983333    2.766060  0.025  0.025  0.005\n",
       "11  0.535  0.783333  0.283333   93.029400  0.025  0.025  0.005\n",
       "12  0.505  0.750000  0.016667   79.308000  0.025  0.025  0.005\n",
       "13  0.895  0.883333  0.616667  208.921000  0.025  0.025  0.005\n",
       "14  0.595  0.550000  0.783333   35.804400  0.025  0.025  0.005\n",
       "15  0.175  0.683333  0.416667   20.731967  0.025  0.025  0.005\n",
       "16  0.145  0.050000  0.916667    0.013636  0.025  0.025  0.005\n",
       "17  0.115  0.616667  0.250000   10.004273  0.025  0.025  0.005\n",
       "18  0.325  0.483333  0.550000   12.116467  0.025  0.025  0.005\n",
       "19  0.775  0.583333  0.816667   56.675600  0.025  0.025  0.005\n",
       "20  0.865  0.950000  0.383333  237.189000  0.025  0.025  0.005\n",
       "21  0.685  0.983333  0.083333  202.466333  0.025  0.025  0.005\n",
       "22  0.985  0.116667  0.883333    0.341612  0.025  0.025  0.005\n",
       "23  0.655  0.183333  0.450000    0.154495  0.025  0.025  0.005\n",
       "24  0.445  0.383333  0.316667    6.931327  0.025  0.025  0.005\n",
       "25  0.805  0.650000  0.750000   82.526700  0.025  0.025  0.005\n",
       "26  0.565  0.016667  0.216667    0.008672  0.025  0.025  0.005\n",
       "27  0.235  0.850000  0.516667   50.081700  0.025  0.025  0.005\n",
       "28  0.715  0.283333  0.716667    3.060127  0.025  0.025  0.005\n",
       "29  0.385  0.450000  0.050000   11.553800  0.025  0.025  0.005"
      ]
     },
     "execution_count": 7,
     "metadata": {},
     "output_type": "execute_result"
    }
   ],
   "source": [
    "dft"
   ]
  },
  {
   "cell_type": "code",
   "execution_count": 8,
   "metadata": {},
   "outputs": [],
   "source": [
    "X = df3[[\"t1\",\"t2\",\"t3\",\"x1\",\"x2\",\"x3\"]]#.iloc[0:3]\n",
    "Y = df3[\"y\"]#.iloc[0:3]\n",
    "Xtest = dft[[\"t1\",\"t2\",\"t3\",\"x1\",\"x2\",\"x3\"]]#.iloc[0:3]\n",
    "Ytest = dft[\"y\"]#.iloc[0:3]\n",
    "X = X.to_numpy()\n",
    "Y = Y.to_numpy().reshape(-1,1)\n",
    "Xtest = Xtest.to_numpy()\n",
    "Ytest = Ytest.to_numpy().reshape(-1,1)"
   ]
  },
  {
   "cell_type": "code",
   "execution_count": 9,
   "metadata": {},
   "outputs": [
    {
     "name": "stderr",
     "output_type": "stream",
     "text": [
      "2021-12-05 00:46:26.757900: I tensorflow/core/platform/cpu_feature_guard.cc:142] This TensorFlow binary is optimized with oneAPI Deep Neural Network Library (oneDNN) to use the following CPU instructions in performance-critical operations:  AVX2 FMA\n",
      "To enable them in other operations, rebuild TensorFlow with the appropriate compiler flags.\n"
     ]
    }
   ],
   "source": [
    "# kernel composition\n",
    "k_BM = Brownian_3d(dim=np.array([0,1,2]))\n",
    "k_x_s = gpflow.kernels.SquaredExponential(active_dims=[3,4,5], lengthscales=[1,1,1]) # first dimension: model parameter\n",
    "k_x_ns = gpflow.kernels.SquaredExponential(active_dims=[3,4,5], lengthscales=[1,1,1])\n",
    "k = k_x_s + k_x_ns * k_BM"
   ]
  },
  {
   "cell_type": "code",
   "execution_count": 10,
   "metadata": {},
   "outputs": [
    {
     "data": {
      "text/html": [
       "&lt;gpflow.kernels.base.Sum object at 0x168e96700&gt;\n",
       "<table>\n",
       "<thead>\n",
       "<tr><th>name                                  </th><th>class    </th><th>transform  </th><th>prior  </th><th>trainable  </th><th>shape  </th><th>dtype  </th><th>value     </th></tr>\n",
       "</thead>\n",
       "<tbody>\n",
       "<tr><td>Sum.kernels[0].variance               </td><td>Parameter</td><td>Softplus   </td><td>       </td><td>True       </td><td>()     </td><td>float64</td><td>1.0       </td></tr>\n",
       "<tr><td>Sum.kernels[0].lengthscales           </td><td>Parameter</td><td>Softplus   </td><td>       </td><td>True       </td><td>(3,)   </td><td>float64</td><td>[1. 1. 1.]</td></tr>\n",
       "<tr><td>Sum.kernels[1].kernels[0].variance    </td><td>Parameter</td><td>Softplus   </td><td>       </td><td>True       </td><td>()     </td><td>float64</td><td>1.0       </td></tr>\n",
       "<tr><td>Sum.kernels[1].kernels[0].lengthscales</td><td>Parameter</td><td>Softplus   </td><td>       </td><td>True       </td><td>(3,)   </td><td>float64</td><td>[1. 1. 1.]</td></tr>\n",
       "<tr><td>Sum.kernels[1].kernels[1].w1          </td><td>Parameter</td><td>Sigmoid    </td><td>       </td><td>True       </td><td>()     </td><td>float64</td><td>0.3       </td></tr>\n",
       "<tr><td>Sum.kernels[1].kernels[1].w2          </td><td>Parameter</td><td>Sigmoid    </td><td>       </td><td>True       </td><td>()     </td><td>float64</td><td>0.3       </td></tr>\n",
       "<tr><td>Sum.kernels[1].kernels[1].w3          </td><td>Parameter</td><td>Sigmoid    </td><td>       </td><td>True       </td><td>()     </td><td>float64</td><td>0.3       </td></tr>\n",
       "</tbody>\n",
       "</table>"
      ],
      "text/plain": [
       "<gpflow.kernels.base.Sum object at 0x168e96700>\n",
       "╒════════════════════════════════════════╤═══════════╤═════════════╤═════════╤═════════════╤═════════╤═════════╤════════════╕\n",
       "│ name                                   │ class     │ transform   │ prior   │ trainable   │ shape   │ dtype   │ value      │\n",
       "╞════════════════════════════════════════╪═══════════╪═════════════╪═════════╪═════════════╪═════════╪═════════╪════════════╡\n",
       "│ Sum.kernels[0].variance                │ Parameter │ Softplus    │         │ True        │ ()      │ float64 │ 1.0        │\n",
       "├────────────────────────────────────────┼───────────┼─────────────┼─────────┼─────────────┼─────────┼─────────┼────────────┤\n",
       "│ Sum.kernels[0].lengthscales            │ Parameter │ Softplus    │         │ True        │ (3,)    │ float64 │ [1. 1. 1.] │\n",
       "├────────────────────────────────────────┼───────────┼─────────────┼─────────┼─────────────┼─────────┼─────────┼────────────┤\n",
       "│ Sum.kernels[1].kernels[0].variance     │ Parameter │ Softplus    │         │ True        │ ()      │ float64 │ 1.0        │\n",
       "├────────────────────────────────────────┼───────────┼─────────────┼─────────┼─────────────┼─────────┼─────────┼────────────┤\n",
       "│ Sum.kernels[1].kernels[0].lengthscales │ Parameter │ Softplus    │         │ True        │ (3,)    │ float64 │ [1. 1. 1.] │\n",
       "├────────────────────────────────────────┼───────────┼─────────────┼─────────┼─────────────┼─────────┼─────────┼────────────┤\n",
       "│ Sum.kernels[1].kernels[1].w1           │ Parameter │ Sigmoid     │         │ True        │ ()      │ float64 │ 0.3        │\n",
       "├────────────────────────────────────────┼───────────┼─────────────┼─────────┼─────────────┼─────────┼─────────┼────────────┤\n",
       "│ Sum.kernels[1].kernels[1].w2           │ Parameter │ Sigmoid     │         │ True        │ ()      │ float64 │ 0.3        │\n",
       "├────────────────────────────────────────┼───────────┼─────────────┼─────────┼─────────────┼─────────┼─────────┼────────────┤\n",
       "│ Sum.kernels[1].kernels[1].w3           │ Parameter │ Sigmoid     │         │ True        │ ()      │ float64 │ 0.3        │\n",
       "╘════════════════════════════════════════╧═══════════╧═════════════╧═════════╧═════════════╧═════════╧═════════╧════════════╛"
      ]
     },
     "execution_count": 10,
     "metadata": {},
     "output_type": "execute_result"
    }
   ],
   "source": [
    "k"
   ]
  },
  {
   "cell_type": "code",
   "execution_count": 93,
   "metadata": {
    "scrolled": false
   },
   "outputs": [
    {
     "data": {
      "text/html": [
       "<table>\n",
       "<thead>\n",
       "<tr><th>name                                         </th><th>class    </th><th>transform       </th><th>prior  </th><th>trainable  </th><th>shape  </th><th>dtype  </th><th>value                                         </th></tr>\n",
       "</thead>\n",
       "<tbody>\n",
       "<tr><td>GPR.mean_function.c                          </td><td>Parameter</td><td>Identity        </td><td>       </td><td>True       </td><td>()     </td><td>float64</td><td>164.20096969188413                            </td></tr>\n",
       "<tr><td>GPR.kernel.kernels[0].variance               </td><td>Parameter</td><td>Softplus        </td><td>       </td><td>True       </td><td>()     </td><td>float64</td><td>31142.922663552385                            </td></tr>\n",
       "<tr><td>GPR.kernel.kernels[0].lengthscales           </td><td>Parameter</td><td>Softplus        </td><td>       </td><td>True       </td><td>(3,)   </td><td>float64</td><td>[    0.85862717     0.76371495 20121.06749439]</td></tr>\n",
       "<tr><td>GPR.kernel.kernels[1].kernels[0].variance    </td><td>Parameter</td><td>Softplus        </td><td>       </td><td>True       </td><td>()     </td><td>float64</td><td>6.697680881177473                             </td></tr>\n",
       "<tr><td>GPR.kernel.kernels[1].kernels[0].lengthscales</td><td>Parameter</td><td>Softplus        </td><td>       </td><td>True       </td><td>(3,)   </td><td>float64</td><td>[0.06876631 0.00581484 0.00006432]            </td></tr>\n",
       "<tr><td>GPR.kernel.kernels[1].kernels[1].w1          </td><td>Parameter</td><td>Sigmoid         </td><td>       </td><td>True       </td><td>()     </td><td>float64</td><td>0.333329985846943                             </td></tr>\n",
       "<tr><td>GPR.kernel.kernels[1].kernels[1].w2          </td><td>Parameter</td><td>Sigmoid         </td><td>       </td><td>True       </td><td>()     </td><td>float64</td><td>0.333329985846943                             </td></tr>\n",
       "<tr><td>GPR.kernel.kernels[1].kernels[1].w3          </td><td>Parameter</td><td>Sigmoid         </td><td>       </td><td>True       </td><td>()     </td><td>float64</td><td>0.333329985846943                             </td></tr>\n",
       "<tr><td>GPR.likelihood.variance                      </td><td>Parameter</td><td>Softplus + Shift</td><td>       </td><td>True       </td><td>()     </td><td>float64</td><td>1e-06                                         </td></tr>\n",
       "</tbody>\n",
       "</table>"
      ],
      "text/plain": [
       "<IPython.core.display.HTML object>"
      ]
     },
     "metadata": {},
     "output_type": "display_data"
    }
   ],
   "source": [
    "np.random.seed(42)\n",
    "\n",
    "# kernel composition\n",
    "k_BM = Brownian_3d(dim=np.array([0,1,2]))\n",
    "k_x_s = gpflow.kernels.SquaredExponential(active_dims=[3,4,5], lengthscales=[0.1,0.1,0.1], variance=1) # first dimension: model parameter\n",
    "k_x_ns = gpflow.kernels.SquaredExponential(active_dims=[3,4,5], lengthscales=[0.1,0.1,0.1], variance=1)\n",
    "k = k_x_s + k_x_ns * k_BM\n",
    "\n",
    "def objective_closure():\n",
    "    return -m.log_marginal_likelihood()\n",
    "\n",
    "m = gpflow.models.GPR(data=(X, Y), mean_function=Constant(np.mean(Y)), kernel=k, noise_variance=1e-4)\n",
    "\n",
    "# 1st optimization method: https://github.com/Ryan-Rhys/The-Photoswitch-Dataset/blob/master/examples/gp_regression_on_molecules.ipynb\n",
    "opt = gpflow.optimizers.Scipy()\n",
    "\n",
    "#     for _ in range(100):\n",
    "opt.minimize(objective_closure, m.trainable_variables, options=dict(maxiter=100))\n",
    "\n",
    "# # 2nd optimization method: https://gpflow.readthedocs.io/en/develop/notebooks/advanced/gps_for_big_data.html\n",
    "# optimizer = tf.optimizers.Adam()\n",
    "\n",
    "# @tf.function\n",
    "# def optimization_step():\n",
    "#     optimizer.minimize(m.training_loss, m.trainable_variables)\n",
    "    \n",
    "# for step in range(200):\n",
    "#         optimization_step()\n",
    "\n",
    "print_summary(m, fmt=\"notebook\")\n",
    "\n",
    "mean, var = m.predict_f(Xtest)\n",
    "\n",
    "# plt.plot(X[:,2], Y, \"kx\", mew=2, color='gray', label='Training Points')\n",
    "# plt.plot(X_test[:,2], Y_test, color='b', label='True Test Points')\n",
    "# (line,) = plt.plot(X_test[:,2], mean, lw=2, label='Predictive Mean')\n",
    "# _ = plt.fill_between(\n",
    "#     X_test[:, 2],\n",
    "#     mean[:, 0] - 1.96 * np.sqrt(var[:, 0]),\n",
    "#     mean[:, 0] + 1.96 * np.sqrt(var[:, 0]),\n",
    "#     color=line.get_color(),\n",
    "#     alpha=0.2, label='95% Predictive Interval'\n",
    "# )\n",
    "# plt.legend()\n",
    "# plt.title('Proposed Model')"
   ]
  },
  {
   "cell_type": "markdown",
   "metadata": {},
   "source": [
    "predict on training set"
   ]
  },
  {
   "cell_type": "code",
   "execution_count": 42,
   "metadata": {},
   "outputs": [],
   "source": [
    "mean_train, var_train = m.predict_f(X)"
   ]
  },
  {
   "cell_type": "code",
   "execution_count": 43,
   "metadata": {},
   "outputs": [],
   "source": [
    "vec = np.hstack([np.abs(mean_train.numpy()-Y),Y])"
   ]
  },
  {
   "cell_type": "code",
   "execution_count": 44,
   "metadata": {},
   "outputs": [
    {
     "name": "stdout",
     "output_type": "stream",
     "text": [
      "[[  0.01183116   4.469205  ]\n",
      " [  0.02741767   0.03467545]\n",
      " [  0.04914919   1.52059867]\n",
      " [  0.00592775  69.54194673]\n",
      " [  0.01451964  31.89531875]\n",
      " [  0.03490508   0.00889046]\n",
      " [  0.03945197   1.59223167]\n",
      " [  0.00066125  12.34544552]\n",
      " [  0.01225557 150.41931874]\n",
      " [  0.14418956  72.61095187]\n",
      " [  0.15961431 116.6509935 ]\n",
      " [  0.0297073    0.07835538]\n",
      " [  0.10327194 160.09641665]\n",
      " [  0.09777145  58.22951528]\n",
      " [  0.03209749  10.91328009]\n",
      " [  0.00873287   0.74044499]\n",
      " [  0.06961353  51.12838582]\n",
      " [  0.02170404 150.37164722]]\n"
     ]
    }
   ],
   "source": [
    "np.set_printoptions(suppress=True)\n",
    "print(vec)"
   ]
  },
  {
   "cell_type": "code",
   "execution_count": 45,
   "metadata": {},
   "outputs": [
    {
     "data": {
      "text/plain": [
       "array([[16.57629064]])"
      ]
     },
     "execution_count": 45,
     "metadata": {},
     "output_type": "execute_result"
    }
   ],
   "source": [
    "mean6, var6 = m.predict_f(Xtest[6:7])\n",
    "np.abs(mean6.numpy()-Ytest[6])"
   ]
  },
  {
   "cell_type": "code",
   "execution_count": 46,
   "metadata": {},
   "outputs": [
    {
     "data": {
      "text/plain": [
       "array([[0.025     , 0.025     , 0.005     , 0.295     , 0.71666667,\n",
       "        0.11666667]])"
      ]
     },
     "execution_count": 46,
     "metadata": {},
     "output_type": "execute_result"
    }
   ],
   "source": [
    "Xtest[6:7]"
   ]
  },
  {
   "cell_type": "code",
   "execution_count": 83,
   "metadata": {},
   "outputs": [
    {
     "data": {
      "text/plain": [
       "3.4191719456943863"
      ]
     },
     "execution_count": 83,
     "metadata": {},
     "output_type": "execute_result"
    }
   ],
   "source": [
    "np.sqrt(np.mean((mean.numpy()-Ytest)**2)) #-> slides"
   ]
  },
  {
   "cell_type": "code",
   "execution_count": 84,
   "metadata": {
    "scrolled": true
   },
   "outputs": [
    {
     "data": {
      "text/plain": [
       "1.7760854076452126"
      ]
     },
     "execution_count": 84,
     "metadata": {},
     "output_type": "execute_result"
    }
   ],
   "source": [
    "np.mean(np.abs(mean.numpy()-Ytest))"
   ]
  },
  {
   "cell_type": "code",
   "execution_count": 91,
   "metadata": {},
   "outputs": [
    {
     "data": {
      "text/plain": [
       "array([[1.35475713]])"
      ]
     },
     "execution_count": 91,
     "metadata": {},
     "output_type": "execute_result"
    }
   ],
   "source": [
    "np.median((mean.numpy()-Ytest)**2).reshape(1,-1) # MSE (including outliers) #-> slides"
   ]
  },
  {
   "cell_type": "code",
   "execution_count": 90,
   "metadata": {},
   "outputs": [
    {
     "data": {
      "text/plain": [
       "2.6153132626019526"
      ]
     },
     "execution_count": 90,
     "metadata": {},
     "output_type": "execute_result"
    }
   ],
   "source": [
    "al_error2=(mean.numpy()-Ytest)**2\n",
    "excl_7_error2 = np.delete(al_error2,6)\n",
    "np.mean(excl_7_error2)"
   ]
  },
  {
   "cell_type": "code",
   "execution_count": 50,
   "metadata": {},
   "outputs": [
    {
     "data": {
      "text/plain": [
       "16.576290642656673"
      ]
     },
     "execution_count": 50,
     "metadata": {},
     "output_type": "execute_result"
    }
   ],
   "source": [
    "np.max(np.abs(mean.numpy()-Ytest)) # max abs error"
   ]
  },
  {
   "cell_type": "code",
   "execution_count": 51,
   "metadata": {},
   "outputs": [
    {
     "data": {
      "text/plain": [
       "0.22434795561675855"
      ]
     },
     "execution_count": 51,
     "metadata": {},
     "output_type": "execute_result"
    }
   ],
   "source": [
    "np.mean(var[:,0])"
   ]
  },
  {
   "cell_type": "code",
   "execution_count": 94,
   "metadata": {
    "scrolled": true
   },
   "outputs": [
    {
     "data": {
      "text/plain": [
       "Text(0.5, 1.0, 'prediction vs truth')"
      ]
     },
     "execution_count": 94,
     "metadata": {},
     "output_type": "execute_result"
    },
    {
     "data": {
      "image/png": "[encoded data removed]",
      "text/plain": [
       "<Figure size 432x288 with 1 Axes>"
      ]
     },
     "metadata": {
      "needs_background": "light"
     },
     "output_type": "display_data"
    }
   ],
   "source": [
    "plt.scatter(mean.numpy(), Ytest) # prediction vs truth\n",
    "plt.title('prediction vs truth')"
   ]
  },
  {
   "cell_type": "code",
   "execution_count": 95,
   "metadata": {},
   "outputs": [
    {
     "data": {
      "text/plain": [
       "Text(0.5, 1.0, 'absolute error')"
      ]
     },
     "execution_count": 95,
     "metadata": {},
     "output_type": "execute_result"
    },
    {
     "data": {
      "image/png": "[encoded data removed]",
      "text/plain": [
       "<Figure size 432x288 with 1 Axes>"
      ]
     },
     "metadata": {
      "needs_background": "light"
     },
     "output_type": "display_data"
    }
   ],
   "source": [
    "plt.boxplot(np.abs(mean.numpy()-Ytest)) # plot of abs error\n",
    "plt.title('absolute error')"
   ]
  },
  {
   "cell_type": "code",
   "execution_count": 96,
   "metadata": {
    "scrolled": false
   },
   "outputs": [
    {
     "data": {
      "text/plain": [
       "Text(0.5, 1.0, 'error^2')"
      ]
     },
     "execution_count": 96,
     "metadata": {},
     "output_type": "execute_result"
    },
    {
     "data": {
      "image/png": "[encoded data removed]",
      "text/plain": [
       "<Figure size 432x288 with 1 Axes>"
      ]
     },
     "metadata": {
      "needs_background": "light"
     },
     "output_type": "display_data"
    }
   ],
   "source": [
    "plt.boxplot((mean.numpy()-Ytest)**2) # plot of error^2\n",
    "plt.title('error^2')"
   ]
  },
  {
   "cell_type": "code",
   "execution_count": 97,
   "metadata": {},
   "outputs": [
    {
     "data": {
      "text/plain": [
       "array([[  5.96165693],\n",
       "       [  4.11032199],\n",
       "       [  6.51138025],\n",
       "       [  0.00651393],\n",
       "       [  0.15248392],\n",
       "       [  1.35886378],\n",
       "       [274.87801921],\n",
       "       [  7.54334794],\n",
       "       [  0.04951131],\n",
       "       [  0.87060772],\n",
       "       [  1.31019577],\n",
       "       [  0.16286706],\n",
       "       [  1.83702744],\n",
       "       [  0.57883201],\n",
       "       [  3.50957958],\n",
       "       [  0.84989938],\n",
       "       [  0.15916415],\n",
       "       [  1.35065049],\n",
       "       [  2.35770415],\n",
       "       [  2.67748766],\n",
       "       [  0.00822748],\n",
       "       [  0.44689955],\n",
       "       [ 22.22699292],\n",
       "       [  0.04102242],\n",
       "       [  3.21041705],\n",
       "       [  1.8754945 ],\n",
       "       [  4.40969387],\n",
       "       [  0.19767782],\n",
       "       [  0.01864884],\n",
       "       [  2.05091472]])"
      ]
     },
     "execution_count": 97,
     "metadata": {},
     "output_type": "execute_result"
    }
   ],
   "source": [
    "(mean.numpy()-Ytest)**2 # 2 outliers: 7th, 23rd"
   ]
  },
  {
   "cell_type": "markdown",
   "metadata": {},
   "source": [
    "Compare to 3-d Gaussian kernel: (6-d not invertible (3 columns the same))"
   ]
  },
  {
   "cell_type": "code",
   "execution_count": 26,
   "metadata": {
    "scrolled": true
   },
   "outputs": [],
   "source": [
    "# # random initialization\n",
    "# from gpflow.mean_functions import Constant\n",
    "# np.random.seed(42)\n",
    "# X_m = X[:,[3,4,5]]\n",
    "\n",
    "# # Hyper-parameters initialization\n",
    "# def init_hyper_parameters(seed_value):\n",
    "#     hyper_parameters = {}   \n",
    "#     hyper_parameters['ls'] = np.random.uniform(0. , 10., size=3)    \n",
    "#     tf.compat.v1.get_default_graph()\n",
    "#     tf.compat.v1.set_random_seed(seed_value)\n",
    "#     tf.random.set_seed(seed_value)\n",
    "#     gpflow.config.set_default_float(np.float64)   \n",
    "#     return hyper_parameters\n",
    "\n",
    "# def objective_closure():\n",
    "#     return -m2.log_marginal_likelihood()\n",
    "\n",
    "# for count in range(100):\n",
    "    \n",
    "#     k2 = gpflow.kernels.SquaredExponential(lengthscales=init_hyper_parameters(count)['ls'])\n",
    "\n",
    "#     m2 = gpflow.models.GPR(data=(X_m, Y), mean_function=Constant(np.mean(Y)), kernel=k2, noise_variance=1)\n",
    "\n",
    "#     opt = gpflow.optimizers.Scipy()\n",
    "\n",
    "# #     for _ in range(100):\n",
    "#     opt.minimize(objective_closure, m2.trainable_variables, options=dict(maxiter=100))\n",
    "\n",
    "# #     optimizer = tf.optimizers.Adam()\n",
    "\n",
    "# #     @tf.function\n",
    "# #     def optimization_step():\n",
    "# #         optimizer.minimize(m2.training_loss, m2.trainable_variables)\n",
    "\n",
    "# #     for step in range(500):\n",
    "# #             optimization_step()\n",
    "\n",
    "#     print_summary(m2, fmt=\"notebook\")\n",
    "#     print(m2.log_marginal_likelihood().numpy())\n",
    "    \n",
    "#     if count == 0:\n",
    "#         m_temp = m2\n",
    "#     else:\n",
    "#         if m2.log_marginal_likelihood().numpy()>m_temp.log_marginal_likelihood().numpy():\n",
    "#             m_temp = m2\n",
    "    \n",
    "# mean2, var2 = m_temp.predict_y(Xtest[:,[3,4,5]])    \n",
    "# print(m_temp.log_marginal_likelihood().numpy())\n",
    "# print_summary(m_temp, fmt=\"notebook\")\n",
    "\n",
    "# # plt.plot(X[:,2], Y, \"kx\", mew=2, color='gray', label='Training Points')\n",
    "# # plt.plot(X_test[:,2], Y_test, color='b', label='True Test Points')\n",
    "# # (line,) = plt.plot(X_test[:,2], mean2, lw=2, label='Predictive Mean')\n",
    "# # _ = plt.fill_between(\n",
    "# #     X_test[:, 2],\n",
    "# #     mean2[:, 0] - 1.96 * np.sqrt(var2[:, 0]),\n",
    "# #     mean2[:, 0] + 1.96 * np.sqrt(var2[:, 0]),\n",
    "# #     color=line.get_color(),\n",
    "# #     alpha=0.2, label='95% Predictive Interval'\n",
    "# # )\n",
    "# # plt.legend()\n",
    "# # plt.title('Gaussian Kernel')"
   ]
  },
  {
   "cell_type": "code",
   "execution_count": 27,
   "metadata": {},
   "outputs": [
    {
     "data": {
      "text/html": [
       "<table>\n",
       "<thead>\n",
       "<tr><th>name                   </th><th>class    </th><th>transform       </th><th>prior  </th><th>trainable  </th><th>shape  </th><th>dtype  </th><th>value                                      </th></tr>\n",
       "</thead>\n",
       "<tbody>\n",
       "<tr><td>GPR.mean_function.c    </td><td>Parameter</td><td>Identity        </td><td>       </td><td>True       </td><td>()     </td><td>float64</td><td>192.80500726584737                         </td></tr>\n",
       "<tr><td>GPR.kernel.variance    </td><td>Parameter</td><td>Softplus        </td><td>       </td><td>True       </td><td>()     </td><td>float64</td><td>40581.36265166042                          </td></tr>\n",
       "<tr><td>GPR.kernel.lengthscales</td><td>Parameter</td><td>Softplus        </td><td>       </td><td>True       </td><td>(3,)   </td><td>float64</td><td>[   0.83497377    0.75341196 4183.32080749]</td></tr>\n",
       "<tr><td>GPR.likelihood.variance</td><td>Parameter</td><td>Softplus + Shift</td><td>       </td><td>True       </td><td>()     </td><td>float64</td><td>1e-06                                      </td></tr>\n",
       "</tbody>\n",
       "</table>"
      ],
      "text/plain": [
       "<IPython.core.display.HTML object>"
      ]
     },
     "metadata": {},
     "output_type": "display_data"
    },
    {
     "name": "stdout",
     "output_type": "stream",
     "text": [
      "-63.38304725071134\n"
     ]
    }
   ],
   "source": [
    "from gpflow.mean_functions import Constant\n",
    "np.random.seed(42)\n",
    "X_m = X[:,[3,4,5]]\n",
    "\n",
    "\n",
    "def objective_closure():\n",
    "    return -m2.log_marginal_likelihood()\n",
    "\n",
    "    \n",
    "k2 = gpflow.kernels.SquaredExponential(lengthscales=[1,1,1])\n",
    "\n",
    "m2 = gpflow.models.GPR(data=(X_m, Y), mean_function=Constant(np.mean(Y)), kernel=k2, noise_variance=1)\n",
    "\n",
    "opt = gpflow.optimizers.Scipy()\n",
    "\n",
    "#     for _ in range(100):\n",
    "opt.minimize(objective_closure, m2.trainable_variables, options=dict(maxiter=100))\n",
    "\n",
    "#     optimizer = tf.optimizers.Adam()\n",
    "\n",
    "#     @tf.function\n",
    "#     def optimization_step():\n",
    "#         optimizer.minimize(m2.training_loss, m2.trainable_variables)\n",
    "\n",
    "#     for step in range(500):\n",
    "#             optimization_step()\n",
    "\n",
    "print_summary(m2, fmt=\"notebook\")\n",
    "print(m2.log_marginal_likelihood().numpy())\n",
    "mean2, var2 = m2.predict_f(Xtest[:,[3,4,5]])    \n",
    "\n",
    "\n",
    "# plt.plot(X[:,2], Y, \"kx\", mew=2, color='gray', label='Training Points')\n",
    "# plt.plot(X_test[:,2], Y_test, color='b', label='True Test Points')\n",
    "# (line,) = plt.plot(X_test[:,2], mean2, lw=2, label='Predictive Mean')\n",
    "# _ = plt.fill_between(\n",
    "#     X_test[:, 2],\n",
    "#     mean2[:, 0] - 1.96 * np.sqrt(var2[:, 0]),\n",
    "#     mean2[:, 0] + 1.96 * np.sqrt(var2[:, 0]),\n",
    "#     color=line.get_color(),\n",
    "#     alpha=0.2, label='95% Predictive Interval'\n",
    "# )\n",
    "# plt.legend()\n",
    "# plt.title('Gaussian Kernel')"
   ]
  },
  {
   "cell_type": "code",
   "execution_count": 28,
   "metadata": {
    "scrolled": true
   },
   "outputs": [
    {
     "data": {
      "text/plain": [
       "3.521590230565627"
      ]
     },
     "execution_count": 28,
     "metadata": {},
     "output_type": "execute_result"
    }
   ],
   "source": [
    "np.sqrt(np.mean((mean2.numpy()-Ytest)**2))"
   ]
  },
  {
   "cell_type": "code",
   "execution_count": 29,
   "metadata": {},
   "outputs": [
    {
     "data": {
      "text/plain": [
       "16.61030900897326"
      ]
     },
     "execution_count": 29,
     "metadata": {},
     "output_type": "execute_result"
    }
   ],
   "source": [
    "np.max(np.abs(mean2.numpy()-Ytest))"
   ]
  },
  {
   "cell_type": "code",
   "execution_count": 30,
   "metadata": {},
   "outputs": [
    {
     "data": {
      "text/plain": [
       "0.08340076415576429"
      ]
     },
     "execution_count": 30,
     "metadata": {},
     "output_type": "execute_result"
    }
   ],
   "source": [
    "np.mean(var2)"
   ]
  },
  {
   "cell_type": "code",
   "execution_count": 31,
   "metadata": {
    "scrolled": true
   },
   "outputs": [
    {
     "data": {
      "text/plain": [
       "<matplotlib.collections.PathCollection at 0x16976d040>"
      ]
     },
     "execution_count": 31,
     "metadata": {},
     "output_type": "execute_result"
    },
    {
     "data": {
      "image/png": "[encoded data removed]",
      "text/plain": [
       "<Figure size 432x288 with 1 Axes>"
      ]
     },
     "metadata": {
      "needs_background": "light"
     },
     "output_type": "display_data"
    }
   ],
   "source": [
    "plt.scatter(mean2.numpy(), Ytest)"
   ]
  },
  {
   "cell_type": "code",
   "execution_count": 32,
   "metadata": {},
   "outputs": [
    {
     "data": {
      "text/plain": [
       "{'whiskers': [<matplotlib.lines.Line2D at 0x169563af0>,\n",
       "  <matplotlib.lines.Line2D at 0x169563df0>],\n",
       " 'caps': [<matplotlib.lines.Line2D at 0x169563fd0>,\n",
       "  <matplotlib.lines.Line2D at 0x169545340>],\n",
       " 'boxes': [<matplotlib.lines.Line2D at 0x169563790>],\n",
       " 'medians': [<matplotlib.lines.Line2D at 0x169545670>],\n",
       " 'fliers': [<matplotlib.lines.Line2D at 0x1695459a0>],\n",
       " 'means': []}"
      ]
     },
     "execution_count": 32,
     "metadata": {},
     "output_type": "execute_result"
    },
    {
     "data": {
      "image/png": "[encoded data removed]",
      "text/plain": [
       "<Figure size 432x288 with 1 Axes>"
      ]
     },
     "metadata": {
      "needs_background": "light"
     },
     "output_type": "display_data"
    }
   ],
   "source": [
    "plt.boxplot(np.abs(mean2.numpy()-Ytest))"
   ]
  },
  {
   "cell_type": "markdown",
   "metadata": {},
   "source": [
    "TEST"
   ]
  },
  {
   "cell_type": "code",
   "execution_count": 33,
   "metadata": {},
   "outputs": [],
   "source": [
    "import GPy\n",
    "import GPy.kern"
   ]
  },
  {
   "cell_type": "code",
   "execution_count": 34,
   "metadata": {
    "scrolled": true
   },
   "outputs": [
    {
     "name": "stdout",
     "output_type": "stream",
     "text": [
      "3.530832216342132\n",
      "\n",
      "Name : GP regression\n",
      "Objective : 64.38099656152768\n",
      "Number of Parameters : 5\n",
      "Number of Optimization Parameters : 5\n",
      "Updates : True\n",
      "Parameters:\n",
      "  \u001b[1mGP_regression.         \u001b[0;0m  |                   value  |  constraints  |  priors\n",
      "  \u001b[1mrbf.variance           \u001b[0;0m  |       64892.70649535724  |      +ve      |        \n",
      "  \u001b[1mrbf.lengthscale        \u001b[0;0m  |                    (3,)  |      +ve      |        \n",
      "  \u001b[1mGaussian_noise.variance\u001b[0;0m  |  5.562684646268137e-309  |      +ve      |        \n"
     ]
    },
    {
     "name": "stderr",
     "output_type": "stream",
     "text": [
      " /Library/Frameworks/Python.framework/Versions/3.8/lib/python3.8/site-packages/GPy/kern/src/stationary.py:137: RuntimeWarning:overflow encountered in square\n",
      " /Library/Frameworks/Python.framework/Versions/3.8/lib/python3.8/site-packages/GPy/kern/src/stationary.py:138: RuntimeWarning:invalid value encountered in add\n"
     ]
    }
   ],
   "source": [
    "X_m = X[:,[3,4,5]]\n",
    "k = GPy.kern.RBF(input_dim=3, ARD=True) \n",
    "m = GPy.models.GPRegression(X_m,Y,k)\n",
    "m.optimize()\n",
    "mu,var = m.predict(Xtest[:,[3,4,5]])\n",
    "print(np.sqrt(np.mean((mu-Ytest)**2)))\n",
    "print(m)"
   ]
  },
  {
   "cell_type": "code",
   "execution_count": 35,
   "metadata": {
    "scrolled": true
   },
   "outputs": [
    {
     "data": {
      "text/plain": [
       "<matplotlib.collections.PathCollection at 0x10a8ed460>"
      ]
     },
     "execution_count": 35,
     "metadata": {},
     "output_type": "execute_result"
    },
    {
     "data": {
      "image/png": "[encoded data removed]",
      "text/plain": [
       "<Figure size 432x288 with 1 Axes>"
      ]
     },
     "metadata": {
      "needs_background": "light"
     },
     "output_type": "display_data"
    }
   ],
   "source": [
    "plt.scatter(mu,Ytest)"
   ]
  },
  {
   "cell_type": "code",
   "execution_count": 36,
   "metadata": {},
   "outputs": [
    {
     "data": {
      "text/plain": [
       "{'whiskers': [<matplotlib.lines.Line2D at 0x16c77beb0>,\n",
       "  <matplotlib.lines.Line2D at 0x16c784250>],\n",
       " 'caps': [<matplotlib.lines.Line2D at 0x16c784550>,\n",
       "  <matplotlib.lines.Line2D at 0x16c7848b0>],\n",
       " 'boxes': [<matplotlib.lines.Line2D at 0x16c77bbb0>],\n",
       " 'medians': [<matplotlib.lines.Line2D at 0x16c784c10>],\n",
       " 'fliers': [<matplotlib.lines.Line2D at 0x16c784f70>],\n",
       " 'means': []}"
      ]
     },
     "execution_count": 36,
     "metadata": {},
     "output_type": "execute_result"
    },
    {
     "data": {
      "image/png": "[encoded data removed]",
      "text/plain": [
       "<Figure size 432x288 with 1 Axes>"
      ]
     },
     "metadata": {
      "needs_background": "light"
     },
     "output_type": "display_data"
    }
   ],
   "source": [
    "plt.boxplot(np.abs(mu-Ytest))"
   ]
  },
  {
   "cell_type": "code",
   "execution_count": null,
   "metadata": {},
   "outputs": [],
   "source": []
  },
  {
   "cell_type": "code",
   "execution_count": null,
   "metadata": {},
   "outputs": [],
   "source": []
  },
  {
   "cell_type": "code",
   "execution_count": 37,
   "metadata": {},
   "outputs": [],
   "source": [
    "x = np.array([-3.0,-2.0,-1.0,0.0,1.0,2.0,3.0]).reshape(-1,1)\n",
    "y = np.sin(x)\n",
    "xtest = np.linspace(-3,3,100).reshape(-1,1)"
   ]
  },
  {
   "cell_type": "code",
   "execution_count": 38,
   "metadata": {},
   "outputs": [
    {
     "data": {
      "text/html": [
       "<table>\n",
       "<thead>\n",
       "<tr><th>name                   </th><th>class    </th><th>transform       </th><th>prior  </th><th>trainable  </th><th>shape  </th><th>dtype  </th><th style=\"text-align: right;\">  value</th></tr>\n",
       "</thead>\n",
       "<tbody>\n",
       "<tr><td>GPR.kernel.variance    </td><td>Parameter</td><td>Softplus        </td><td>       </td><td>True       </td><td>()     </td><td>float64</td><td style=\"text-align: right;\">2.74454</td></tr>\n",
       "<tr><td>GPR.kernel.lengthscales</td><td>Parameter</td><td>Softplus        </td><td>       </td><td>True       </td><td>()     </td><td>float64</td><td style=\"text-align: right;\">2.48535</td></tr>\n",
       "<tr><td>GPR.likelihood.variance</td><td>Parameter</td><td>Softplus + Shift</td><td>       </td><td>True       </td><td>()     </td><td>float64</td><td style=\"text-align: right;\">1e-06  </td></tr>\n",
       "</tbody>\n",
       "</table>"
      ],
      "text/plain": [
       "<IPython.core.display.HTML object>"
      ]
     },
     "metadata": {},
     "output_type": "display_data"
    }
   ],
   "source": [
    "k = gpflow.kernels.SquaredExponential()\n",
    "m = gpflow.models.GPR((x, y), kernel=k)\n",
    "opt = gpflow.optimizers.Scipy()\n",
    "opt.minimize(m.training_loss, variables=m.trainable_variables)\n",
    "print_summary(m, fmt=\"notebook\")\n",
    "\n",
    "mean, var = m.predict_y(xtest)"
   ]
  },
  {
   "cell_type": "code",
   "execution_count": 39,
   "metadata": {},
   "outputs": [
    {
     "data": {
      "text/plain": [
       "[<matplotlib.lines.Line2D at 0x154586af0>]"
      ]
     },
     "execution_count": 39,
     "metadata": {},
     "output_type": "execute_result"
    },
    {
     "data": {
      "image/png": "[encoded data removed]",
      "text/plain": [
       "<Figure size 432x288 with 1 Axes>"
      ]
     },
     "metadata": {
      "needs_background": "light"
     },
     "output_type": "display_data"
    }
   ],
   "source": [
    "plt.plot(xtest,mean)"
   ]
  },
  {
   "cell_type": "code",
   "execution_count": null,
   "metadata": {},
   "outputs": [],
   "source": []
  }
 ],
 "metadata": {
  "kernelspec": {
   "display_name": "Python 3 (ipykernel)",
   "language": "python",
   "name": "python3"
  },
  "language_info": {
   "codemirror_mode": {
    "name": "ipython",
    "version": 3
   },
   "file_extension": ".py",
   "mimetype": "text/x-python",
   "name": "python",
   "nbconvert_exporter": "python",
   "pygments_lexer": "ipython3",
   "version": "3.8.3"
  }
 },
 "nbformat": 4,
 "nbformat_minor": 4
}
